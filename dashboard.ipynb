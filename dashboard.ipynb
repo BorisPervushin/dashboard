{
 "cells": [
  {
   "cell_type": "markdown",
   "source": [
    "---\n",
    "title: Finance dashboard\n",
    "description: Dashboard with financial data\n",
    "show-code: False\n",
    "params:\n",
    "    ticker:\n",
    "        input: select\n",
    "        value: TSLA\n",
    "        label: Select ticker\n",
    "        choices: [TSLA, COIN, MSFT, PLTR, SNOW, NFLX]\n",
    "---"
   ],
   "metadata": {
    "collapsed": false,
    "pycharm": {
     "name": "#%% md\n"
    }
   }
  },
  {
   "cell_type": "code",
   "execution_count": 2,
   "outputs": [
    {
     "name": "stdout",
     "output_type": "stream",
     "text": [
      "dashboard.ipynb\r\n"
     ]
    }
   ],
   "source": [
    "!ls"
   ],
   "metadata": {
    "collapsed": false,
    "pycharm": {
     "name": "#%%\n"
    }
   }
  },
  {
   "cell_type": "code",
   "execution_count": 4,
   "outputs": [
    {
     "name": "stdout",
     "output_type": "stream",
     "text": [
      "created virtual environment CPython3.9.7.final.0-64 in 908ms\r\n",
      "  creator CPython3Posix(dest=/Users/borispervusin/dashboard-project/dashboard/venv, clear=False, no_vcs_ignore=False, global=False)\r\n",
      "  seeder FromAppData(download=False, pip=bundle, setuptools=bundle, wheel=bundle, via=copy, app_data_dir=/Users/borispervusin/Library/Application Support/virtualenv)\r\n",
      "    added seed packages: pip==22.1.2, setuptools==62.3.4, wheel==0.37.1\r\n",
      "  activators BashActivator,CShellActivator,FishActivator,NushellActivator,PowerShellActivator,PythonActivator\r\n"
     ]
    }
   ],
   "source": [
    "!virtualenv venv\n",
    "!source venv/bin/activate"
   ],
   "metadata": {
    "collapsed": false,
    "pycharm": {
     "name": "#%%\n"
    }
   }
  },
  {
   "cell_type": "code",
   "execution_count": 6,
   "outputs": [
    {
     "name": "stdout",
     "output_type": "stream",
     "text": [
      "Collecting mljar-mercury\r\n",
      "  Using cached mljar_mercury-1.0.1-py3-none-any.whl\r\n",
      "Collecting mplfinance\r\n",
      "  Using cached mplfinance-0.12.9b1-py3-none-any.whl (70 kB)\r\n",
      "Collecting yfinance\r\n",
      "  Using cached yfinance-0.1.72-py2.py3-none-any.whl (27 kB)\r\n",
      "Collecting pyppeteer==1.0.2\r\n",
      "  Using cached pyppeteer-1.0.2-py3-none-any.whl (83 kB)\r\n",
      "Collecting django==3.2.5\r\n",
      "  Using cached Django-3.2.5-py3-none-any.whl (7.9 MB)\r\n",
      "Collecting sqlalchemy==1.4.27\r\n",
      "  Using cached SQLAlchemy-1.4.27-cp39-cp39-macosx_10_14_x86_64.whl (1.5 MB)\r\n",
      "Collecting croniter==1.3.5\r\n",
      "  Using cached croniter-1.3.5-py2.py3-none-any.whl (17 kB)\r\n",
      "Collecting python-dotenv==0.19.2\r\n",
      "  Using cached python_dotenv-0.19.2-py2.py3-none-any.whl (17 kB)\r\n",
      "Collecting nbconvert>=6.5.0\r\n",
      "  Using cached nbconvert-6.5.0-py3-none-any.whl (561 kB)\r\n",
      "Collecting whitenoise==5.3.0\r\n",
      "  Using cached whitenoise-5.3.0-py2.py3-none-any.whl (19 kB)\r\n",
      "Collecting django-filter==21.1\r\n",
      "  Using cached django_filter-21.1-py3-none-any.whl (81 kB)\r\n",
      "Requirement already satisfied: pyyaml==6.0 in /Users/borispervusin/opt/anaconda3/lib/python3.9/site-packages (from mljar-mercury->-r requirements.txt (line 1)) (6.0)\r\n",
      "Collecting gevent==21.12.0\r\n",
      "  Using cached gevent-21.12.0-cp39-cp39-macosx_10_14_x86_64.whl (1.9 MB)\r\n",
      "Collecting django-cors-headers==3.10.1\r\n",
      "  Using cached django_cors_headers-3.10.1-py3-none-any.whl (12 kB)\r\n",
      "Collecting celery==5.1.2\r\n",
      "  Using cached celery-5.1.2-py3-none-any.whl (401 kB)\r\n",
      "Requirement already satisfied: ipython-genutils in /Users/borispervusin/opt/anaconda3/lib/python3.9/site-packages (from mljar-mercury->-r requirements.txt (line 1)) (0.2.0)\r\n",
      "Collecting django-drf-filepond==0.4.1\r\n",
      "  Using cached django_drf_filepond-0.4.1-py2.py3-none-any.whl (39 kB)\r\n",
      "Collecting ipykernel==6.6.0\r\n",
      "  Using cached ipykernel-6.6.0-py3-none-any.whl (126 kB)\r\n",
      "Collecting djangorestframework==3.12.4\r\n",
      "  Using cached djangorestframework-3.12.4-py3-none-any.whl (957 kB)\r\n",
      "Collecting ipython==7.30.1\r\n",
      "  Using cached ipython-7.30.1-py3-none-any.whl (791 kB)\r\n",
      "Collecting markdown==3.3.6\r\n",
      "  Using cached Markdown-3.3.6-py3-none-any.whl (97 kB)\r\n",
      "Requirement already satisfied: psutil==5.8.0 in /Users/borispervusin/opt/anaconda3/lib/python3.9/site-packages (from mljar-mercury->-r requirements.txt (line 1)) (5.8.0)\r\n",
      "Collecting click-didyoumean>=0.0.3\r\n",
      "  Using cached click_didyoumean-0.3.0-py3-none-any.whl (2.7 kB)\r\n",
      "Collecting vine<6.0,>=5.0.0\r\n",
      "  Using cached vine-5.0.0-py2.py3-none-any.whl (9.4 kB)\r\n",
      "Collecting kombu<6.0,>=5.1.0\r\n",
      "  Using cached kombu-5.2.4-py3-none-any.whl (189 kB)\r\n",
      "Requirement already satisfied: pytz>dev in /Users/borispervusin/opt/anaconda3/lib/python3.9/site-packages (from celery==5.1.2->mljar-mercury->-r requirements.txt (line 1)) (2021.3)\r\n",
      "Collecting click-plugins>=1.1.1\r\n",
      "  Using cached click_plugins-1.1.1-py2.py3-none-any.whl (7.5 kB)\r\n",
      "Collecting billiard<4.0,>=3.6.4.0\r\n",
      "  Using cached billiard-3.6.4.0-py3-none-any.whl (89 kB)\r\n",
      "Requirement already satisfied: setuptools in /Users/borispervusin/opt/anaconda3/lib/python3.9/site-packages (from celery==5.1.2->mljar-mercury->-r requirements.txt (line 1)) (58.0.4)\r\n",
      "Collecting click-repl>=0.1.6\r\n",
      "  Using cached click_repl-0.2.0-py3-none-any.whl (5.2 kB)\r\n",
      "Collecting click<8.0,>=7.0\r\n",
      "  Using cached click-7.1.2-py2.py3-none-any.whl (82 kB)\r\n",
      "Requirement already satisfied: python-dateutil in /Users/borispervusin/opt/anaconda3/lib/python3.9/site-packages (from croniter==1.3.5->mljar-mercury->-r requirements.txt (line 1)) (2.8.2)\r\n",
      "Collecting asgiref<4,>=3.3.2\r\n",
      "  Using cached asgiref-3.5.2-py3-none-any.whl (22 kB)\r\n",
      "Collecting sqlparse>=0.2.2\r\n",
      "  Using cached sqlparse-0.4.2-py3-none-any.whl (42 kB)\r\n",
      "Requirement already satisfied: requests>=2.20.1 in /Users/borispervusin/opt/anaconda3/lib/python3.9/site-packages (from django-drf-filepond==0.4.1->mljar-mercury->-r requirements.txt (line 1)) (2.26.0)\r\n",
      "Collecting django-storages>=1.9.1\r\n",
      "  Using cached django_storages-1.12.3-py3-none-any.whl (44 kB)\r\n",
      "Collecting shortuuid>=0.5.0\r\n",
      "  Using cached shortuuid-1.0.9-py3-none-any.whl (9.4 kB)\r\n",
      "Requirement already satisfied: six>=1.14.0 in /Users/borispervusin/opt/anaconda3/lib/python3.9/site-packages (from django-drf-filepond==0.4.1->mljar-mercury->-r requirements.txt (line 1)) (1.15.0)\r\n",
      "Requirement already satisfied: zope.event in /Users/borispervusin/opt/anaconda3/lib/python3.9/site-packages (from gevent==21.12.0->mljar-mercury->-r requirements.txt (line 1)) (4.5.0)\r\n",
      "Requirement already satisfied: zope.interface in /Users/borispervusin/opt/anaconda3/lib/python3.9/site-packages (from gevent==21.12.0->mljar-mercury->-r requirements.txt (line 1)) (5.4.0)\r\n",
      "Requirement already satisfied: greenlet<2.0,>=1.1.0 in /Users/borispervusin/opt/anaconda3/lib/python3.9/site-packages (from gevent==21.12.0->mljar-mercury->-r requirements.txt (line 1)) (1.1.1)\r\n",
      "Requirement already satisfied: tornado<7.0,>=4.2 in /Users/borispervusin/opt/anaconda3/lib/python3.9/site-packages (from ipykernel==6.6.0->mljar-mercury->-r requirements.txt (line 1)) (6.1)\r\n",
      "Requirement already satisfied: appnope in /Users/borispervusin/opt/anaconda3/lib/python3.9/site-packages (from ipykernel==6.6.0->mljar-mercury->-r requirements.txt (line 1)) (0.1.2)\r\n",
      "Requirement already satisfied: jupyter-client<8.0 in /Users/borispervusin/opt/anaconda3/lib/python3.9/site-packages (from ipykernel==6.6.0->mljar-mercury->-r requirements.txt (line 1)) (6.1.12)\r\n",
      "Requirement already satisfied: traitlets<6.0,>=5.1.0 in /Users/borispervusin/opt/anaconda3/lib/python3.9/site-packages (from ipykernel==6.6.0->mljar-mercury->-r requirements.txt (line 1)) (5.1.0)\r\n",
      "Requirement already satisfied: matplotlib-inline<0.2.0,>=0.1.0 in /Users/borispervusin/opt/anaconda3/lib/python3.9/site-packages (from ipykernel==6.6.0->mljar-mercury->-r requirements.txt (line 1)) (0.1.2)\r\n",
      "Requirement already satisfied: debugpy<2.0,>=1.0.0 in /Users/borispervusin/opt/anaconda3/lib/python3.9/site-packages (from ipykernel==6.6.0->mljar-mercury->-r requirements.txt (line 1)) (1.4.1)\r\n",
      "Requirement already satisfied: pickleshare in /Users/borispervusin/opt/anaconda3/lib/python3.9/site-packages (from ipython==7.30.1->mljar-mercury->-r requirements.txt (line 1)) (0.7.5)\r\n",
      "Requirement already satisfied: backcall in /Users/borispervusin/opt/anaconda3/lib/python3.9/site-packages (from ipython==7.30.1->mljar-mercury->-r requirements.txt (line 1)) (0.2.0)\r\n",
      "Requirement already satisfied: prompt-toolkit!=3.0.0,!=3.0.1,<3.1.0,>=2.0.0 in /Users/borispervusin/opt/anaconda3/lib/python3.9/site-packages (from ipython==7.30.1->mljar-mercury->-r requirements.txt (line 1)) (3.0.20)\r\n",
      "Requirement already satisfied: jedi>=0.16 in /Users/borispervusin/opt/anaconda3/lib/python3.9/site-packages (from ipython==7.30.1->mljar-mercury->-r requirements.txt (line 1)) (0.18.0)\r\n",
      "Requirement already satisfied: pygments in /Users/borispervusin/opt/anaconda3/lib/python3.9/site-packages (from ipython==7.30.1->mljar-mercury->-r requirements.txt (line 1)) (2.10.0)\r\n",
      "Requirement already satisfied: decorator in /Users/borispervusin/opt/anaconda3/lib/python3.9/site-packages (from ipython==7.30.1->mljar-mercury->-r requirements.txt (line 1)) (5.1.0)\r\n",
      "Requirement already satisfied: pexpect>4.3 in /Users/borispervusin/opt/anaconda3/lib/python3.9/site-packages (from ipython==7.30.1->mljar-mercury->-r requirements.txt (line 1)) (4.8.0)\r\n",
      "Requirement already satisfied: importlib-metadata>=4.4 in /Users/borispervusin/opt/anaconda3/lib/python3.9/site-packages (from markdown==3.3.6->mljar-mercury->-r requirements.txt (line 1)) (4.11.4)\r\n",
      "Collecting pyee<9.0.0,>=8.1.0\r\n",
      "  Using cached pyee-8.2.2-py2.py3-none-any.whl (12 kB)\r\n",
      "Requirement already satisfied: tqdm<5.0.0,>=4.42.1 in /Users/borispervusin/opt/anaconda3/lib/python3.9/site-packages (from pyppeteer==1.0.2->mljar-mercury->-r requirements.txt (line 1)) (4.62.3)\r\n",
      "Requirement already satisfied: urllib3<2.0.0,>=1.25.8 in /Users/borispervusin/opt/anaconda3/lib/python3.9/site-packages (from pyppeteer==1.0.2->mljar-mercury->-r requirements.txt (line 1)) (1.26.7)\r\n",
      "Requirement already satisfied: certifi>=2021 in /Users/borispervusin/opt/anaconda3/lib/python3.9/site-packages (from pyppeteer==1.0.2->mljar-mercury->-r requirements.txt (line 1)) (2022.5.18.1)\r\n",
      "Requirement already satisfied: appdirs<2.0.0,>=1.4.3 in /Users/borispervusin/opt/anaconda3/lib/python3.9/site-packages (from pyppeteer==1.0.2->mljar-mercury->-r requirements.txt (line 1)) (1.4.4)\r\n",
      "Collecting websockets<11.0,>=10.0\r\n",
      "  Using cached websockets-10.3-cp39-cp39-macosx_10_9_x86_64.whl (97 kB)\r\n",
      "Requirement already satisfied: pandas in /Users/borispervusin/opt/anaconda3/lib/python3.9/site-packages (from mplfinance->-r requirements.txt (line 2)) (1.3.4)\r\n",
      "Requirement already satisfied: matplotlib in /Users/borispervusin/opt/anaconda3/lib/python3.9/site-packages (from mplfinance->-r requirements.txt (line 2)) (3.4.3)\r\n",
      "Collecting multitasking>=0.0.7\r\n",
      "  Using cached multitasking-0.0.10-py3-none-any.whl\r\n",
      "Requirement already satisfied: lxml>=4.5.1 in /Users/borispervusin/opt/anaconda3/lib/python3.9/site-packages (from yfinance->-r requirements.txt (line 3)) (4.6.3)\r\n",
      "Requirement already satisfied: numpy>=1.15 in /Users/borispervusin/opt/anaconda3/lib/python3.9/site-packages (from yfinance->-r requirements.txt (line 3)) (1.19.5)\r\n",
      "Collecting tinycss2\r\n",
      "  Using cached tinycss2-1.1.1-py3-none-any.whl (21 kB)\r\n",
      "Collecting MarkupSafe>=2.0\r\n",
      "  Using cached MarkupSafe-2.1.1-cp39-cp39-macosx_10_9_x86_64.whl (13 kB)\r\n",
      "Requirement already satisfied: beautifulsoup4 in /Users/borispervusin/opt/anaconda3/lib/python3.9/site-packages (from nbconvert>=6.5.0->mljar-mercury->-r requirements.txt (line 1)) (4.10.0)\r\n",
      "Requirement already satisfied: jupyter-core>=4.7 in /Users/borispervusin/opt/anaconda3/lib/python3.9/site-packages (from nbconvert>=6.5.0->mljar-mercury->-r requirements.txt (line 1)) (4.8.1)\r\n",
      "Requirement already satisfied: entrypoints>=0.2.2 in /Users/borispervusin/opt/anaconda3/lib/python3.9/site-packages (from nbconvert>=6.5.0->mljar-mercury->-r requirements.txt (line 1)) (0.3)\r\n",
      "Requirement already satisfied: mistune<2,>=0.8.1 in /Users/borispervusin/opt/anaconda3/lib/python3.9/site-packages (from nbconvert>=6.5.0->mljar-mercury->-r requirements.txt (line 1)) (0.8.4)\r\n",
      "Requirement already satisfied: nbclient>=0.5.0 in /Users/borispervusin/opt/anaconda3/lib/python3.9/site-packages (from nbconvert>=6.5.0->mljar-mercury->-r requirements.txt (line 1)) (0.5.3)\r\n",
      "Requirement already satisfied: packaging in /Users/borispervusin/opt/anaconda3/lib/python3.9/site-packages (from nbconvert>=6.5.0->mljar-mercury->-r requirements.txt (line 1)) (21.0)\r\n",
      "Requirement already satisfied: pandocfilters>=1.4.1 in /Users/borispervusin/opt/anaconda3/lib/python3.9/site-packages (from nbconvert>=6.5.0->mljar-mercury->-r requirements.txt (line 1)) (1.4.3)\r\n",
      "Requirement already satisfied: nbformat>=5.1 in /Users/borispervusin/opt/anaconda3/lib/python3.9/site-packages (from nbconvert>=6.5.0->mljar-mercury->-r requirements.txt (line 1)) (5.1.3)\r\n",
      "Requirement already satisfied: bleach in /Users/borispervusin/opt/anaconda3/lib/python3.9/site-packages (from nbconvert>=6.5.0->mljar-mercury->-r requirements.txt (line 1)) (4.0.0)\r\n",
      "Requirement already satisfied: defusedxml in /Users/borispervusin/opt/anaconda3/lib/python3.9/site-packages (from nbconvert>=6.5.0->mljar-mercury->-r requirements.txt (line 1)) (0.7.1)\r\n",
      "Collecting jinja2>=3.0\r\n",
      "  Using cached Jinja2-3.1.2-py3-none-any.whl (133 kB)\r\n",
      "Requirement already satisfied: jupyterlab-pygments in /Users/borispervusin/opt/anaconda3/lib/python3.9/site-packages (from nbconvert>=6.5.0->mljar-mercury->-r requirements.txt (line 1)) (0.1.2)\r\n",
      "Requirement already satisfied: charset-normalizer~=2.0.0 in /Users/borispervusin/opt/anaconda3/lib/python3.9/site-packages (from requests>=2.20.1->django-drf-filepond==0.4.1->mljar-mercury->-r requirements.txt (line 1)) (2.0.4)\r\n",
      "Requirement already satisfied: idna<4,>=2.5 in /Users/borispervusin/opt/anaconda3/lib/python3.9/site-packages (from requests>=2.20.1->django-drf-filepond==0.4.1->mljar-mercury->-r requirements.txt (line 1)) (3.2)\r\n",
      "Requirement already satisfied: pillow>=6.2.0 in /Users/borispervusin/opt/anaconda3/lib/python3.9/site-packages (from matplotlib->mplfinance->-r requirements.txt (line 2)) (8.4.0)\r\n",
      "Requirement already satisfied: pyparsing>=2.2.1 in /Users/borispervusin/opt/anaconda3/lib/python3.9/site-packages (from matplotlib->mplfinance->-r requirements.txt (line 2)) (3.0.4)\r\n",
      "Requirement already satisfied: cycler>=0.10 in /Users/borispervusin/opt/anaconda3/lib/python3.9/site-packages (from matplotlib->mplfinance->-r requirements.txt (line 2)) (0.10.0)\r\n",
      "Requirement already satisfied: kiwisolver>=1.0.1 in /Users/borispervusin/opt/anaconda3/lib/python3.9/site-packages (from matplotlib->mplfinance->-r requirements.txt (line 2)) (1.3.1)\r\n",
      "Requirement already satisfied: zipp>=0.5 in /Users/borispervusin/opt/anaconda3/lib/python3.9/site-packages (from importlib-metadata>=4.4->markdown==3.3.6->mljar-mercury->-r requirements.txt (line 1)) (3.6.0)\r\n",
      "Requirement already satisfied: parso<0.9.0,>=0.8.0 in /Users/borispervusin/opt/anaconda3/lib/python3.9/site-packages (from jedi>=0.16->ipython==7.30.1->mljar-mercury->-r requirements.txt (line 1)) (0.8.2)\r\n",
      "Requirement already satisfied: pyzmq>=13 in /Users/borispervusin/opt/anaconda3/lib/python3.9/site-packages (from jupyter-client<8.0->ipykernel==6.6.0->mljar-mercury->-r requirements.txt (line 1)) (22.2.1)\r\n",
      "Collecting amqp<6.0.0,>=5.0.9\r\n",
      "  Using cached amqp-5.1.1-py3-none-any.whl (50 kB)\r\n",
      "Requirement already satisfied: async-generator in /Users/borispervusin/opt/anaconda3/lib/python3.9/site-packages (from nbclient>=0.5.0->nbconvert>=6.5.0->mljar-mercury->-r requirements.txt (line 1)) (1.10)\r\n",
      "Requirement already satisfied: nest-asyncio in /Users/borispervusin/opt/anaconda3/lib/python3.9/site-packages (from nbclient>=0.5.0->nbconvert>=6.5.0->mljar-mercury->-r requirements.txt (line 1)) (1.5.1)\r\n",
      "Requirement already satisfied: jsonschema!=2.5.0,>=2.4 in /Users/borispervusin/opt/anaconda3/lib/python3.9/site-packages (from nbformat>=5.1->nbconvert>=6.5.0->mljar-mercury->-r requirements.txt (line 1)) (3.2.0)\r\n",
      "Requirement already satisfied: ptyprocess>=0.5 in /Users/borispervusin/opt/anaconda3/lib/python3.9/site-packages (from pexpect>4.3->ipython==7.30.1->mljar-mercury->-r requirements.txt (line 1)) (0.7.0)\r\n",
      "Requirement already satisfied: wcwidth in /Users/borispervusin/opt/anaconda3/lib/python3.9/site-packages (from prompt-toolkit!=3.0.0,!=3.0.1,<3.1.0,>=2.0.0->ipython==7.30.1->mljar-mercury->-r requirements.txt (line 1)) (0.2.5)\r\n",
      "Requirement already satisfied: soupsieve>1.2 in /Users/borispervusin/opt/anaconda3/lib/python3.9/site-packages (from beautifulsoup4->nbconvert>=6.5.0->mljar-mercury->-r requirements.txt (line 1)) (2.2.1)\r\n",
      "Requirement already satisfied: webencodings in /Users/borispervusin/opt/anaconda3/lib/python3.9/site-packages (from bleach->nbconvert>=6.5.0->mljar-mercury->-r requirements.txt (line 1)) (0.5.1)\r\n",
      "Requirement already satisfied: attrs>=17.4.0 in /Users/borispervusin/opt/anaconda3/lib/python3.9/site-packages (from jsonschema!=2.5.0,>=2.4->nbformat>=5.1->nbconvert>=6.5.0->mljar-mercury->-r requirements.txt (line 1)) (21.2.0)\r\n",
      "Requirement already satisfied: pyrsistent>=0.14.0 in /Users/borispervusin/opt/anaconda3/lib/python3.9/site-packages (from jsonschema!=2.5.0,>=2.4->nbformat>=5.1->nbconvert>=6.5.0->mljar-mercury->-r requirements.txt (line 1)) (0.18.0)\r\n",
      "Installing collected packages: pyee, multitasking, billiard, whitenoise, websockets, vine, tinycss2, sqlparse, sqlalchemy, shortuuid, python-dotenv, MarkupSafe, click, asgiref, pyppeteer, markdown, jinja2, ipython, gevent, django, croniter, click-repl, click-plugins, click-didyoumean, amqp, yfinance, mplfinance, kombu, ipykernel, djangorestframework, django-storages, django-filter, django-cors-headers, nbconvert, django-drf-filepond, celery, mljar-mercury\r\n",
      "  Attempting uninstall: sqlalchemy\r\n",
      "    Found existing installation: SQLAlchemy 1.4.22\r\n",
      "    Uninstalling SQLAlchemy-1.4.22:\r\n",
      "      Successfully uninstalled SQLAlchemy-1.4.22\r\n",
      "  Attempting uninstall: MarkupSafe\r\n",
      "    Found existing installation: MarkupSafe 1.1.1\r\n",
      "    Uninstalling MarkupSafe-1.1.1:\r\n",
      "      Successfully uninstalled MarkupSafe-1.1.1\r\n",
      "  Attempting uninstall: click\r\n",
      "    Found existing installation: click 8.0.3\r\n",
      "    Uninstalling click-8.0.3:\r\n",
      "      Successfully uninstalled click-8.0.3\r\n",
      "  Attempting uninstall: markdown\r\n",
      "    Found existing installation: Markdown 3.3.7\r\n",
      "    Uninstalling Markdown-3.3.7:\r\n",
      "      Successfully uninstalled Markdown-3.3.7\r\n",
      "  Attempting uninstall: jinja2\r\n",
      "    Found existing installation: Jinja2 2.11.3\r\n",
      "    Uninstalling Jinja2-2.11.3:\r\n",
      "      Successfully uninstalled Jinja2-2.11.3\r\n",
      "  Attempting uninstall: ipython\r\n",
      "    Found existing installation: ipython 7.29.0\r\n",
      "    Uninstalling ipython-7.29.0:\r\n",
      "      Successfully uninstalled ipython-7.29.0\r\n",
      "  Attempting uninstall: gevent\r\n",
      "    Found existing installation: gevent 21.8.0\r\n",
      "    Uninstalling gevent-21.8.0:\r\n",
      "      Successfully uninstalled gevent-21.8.0\r\n",
      "  Attempting uninstall: ipykernel\r\n",
      "    Found existing installation: ipykernel 6.4.1\r\n",
      "    Uninstalling ipykernel-6.4.1:\r\n",
      "      Successfully uninstalled ipykernel-6.4.1\r\n",
      "  Attempting uninstall: nbconvert\r\n",
      "    Found existing installation: nbconvert 6.1.0\r\n",
      "    Uninstalling nbconvert-6.1.0:\r\n",
      "      Successfully uninstalled nbconvert-6.1.0\r\n",
      "\u001B[31mERROR: pip's dependency resolver does not currently take into account all the packages that are installed. This behaviour is the source of the following dependency conflicts.\r\n",
      "spyder 5.1.5 requires pyqtwebengine<5.13, which is not installed.\r\n",
      "anaconda-project 0.10.1 requires ruamel-yaml, which is not installed.\r\n",
      "spyder 5.1.5 requires pyqt5<5.13, but you have pyqt5 5.15.6 which is incompatible.\r\n",
      "cookiecutter 1.7.2 requires Jinja2<3.0.0, but you have jinja2 3.1.2 which is incompatible.\r\n",
      "cookiecutter 1.7.2 requires MarkupSafe<2.0.0, but you have markupsafe 2.1.1 which is incompatible.\r\n",
      "bokeh 2.4.1 requires typing-extensions>=3.10.0, but you have typing-extensions 3.7.4.3 which is incompatible.\u001B[0m\u001B[31m\r\n",
      "\u001B[0mSuccessfully installed MarkupSafe-2.1.1 amqp-5.1.1 asgiref-3.5.2 billiard-3.6.4.0 celery-5.1.2 click-7.1.2 click-didyoumean-0.3.0 click-plugins-1.1.1 click-repl-0.2.0 croniter-1.3.5 django-3.2.5 django-cors-headers-3.10.1 django-drf-filepond-0.4.1 django-filter-21.1 django-storages-1.12.3 djangorestframework-3.12.4 gevent-21.12.0 ipykernel-6.6.0 ipython-7.30.1 jinja2-3.1.2 kombu-5.2.4 markdown-3.3.6 mljar-mercury-1.0.1 mplfinance-0.12.9b1 multitasking-0.0.10 nbconvert-6.5.0 pyee-8.2.2 pyppeteer-1.0.2 python-dotenv-0.19.2 shortuuid-1.0.9 sqlalchemy-1.4.27 sqlparse-0.4.2 tinycss2-1.1.1 vine-5.0.0 websockets-10.3 whitenoise-5.3.0 yfinance-0.1.72\r\n"
     ]
    }
   ],
   "source": [
    "!pip install -r requirements.txt"
   ],
   "metadata": {
    "collapsed": false,
    "pycharm": {
     "name": "#%%\n"
    }
   }
  },
  {
   "cell_type": "code",
   "execution_count": 7,
   "outputs": [
    {
     "name": "stdout",
     "output_type": "stream",
     "text": [
      "Installed kernelspec venv in /Users/borispervusin/Library/Jupyter/kernels/venv\r\n"
     ]
    }
   ],
   "source": [
    "!python -m ipykernel install --user --name venv"
   ],
   "metadata": {
    "collapsed": false,
    "pycharm": {
     "name": "#%%\n"
    }
   }
  },
  {
   "cell_type": "code",
   "execution_count": 8,
   "outputs": [],
   "source": [
    "import yfinance as yf\n",
    "import mplfinance as mpf"
   ],
   "metadata": {
    "collapsed": false,
    "pycharm": {
     "name": "#%%\n"
    }
   }
  },
  {
   "cell_type": "code",
   "execution_count": 10,
   "outputs": [
    {
     "name": "stdout",
     "output_type": "stream",
     "text": [
      "3 months low: 620\n",
      "3 months high: 1152\n"
     ]
    }
   ],
   "source": [
    "ticker = 'TSLA'\n",
    "history = yf.Ticker(ticker).history(period='3mo')\n",
    "print(f\"3 months low: {int(history.Low.min())}\")\n",
    "print(f\"3 months high: {int(history.High.max())}\")"
   ],
   "metadata": {
    "collapsed": false,
    "pycharm": {
     "name": "#%%\n"
    }
   }
  },
  {
   "cell_type": "code",
   "execution_count": 12,
   "outputs": [
    {
     "name": "stdout",
     "output_type": "stream",
     "text": [
      "                  Open        High         Low       Close    Volume  \\\n",
      "Date                                                                   \n",
      "2022-06-17  640.299988  662.909973  639.590027  650.280029  30810900   \n",
      "2022-06-21  673.809998  730.729980  673.000000  711.109985  40931000   \n",
      "2022-06-22  703.510010  740.500000  701.479980  708.260010  33702500   \n",
      "2022-06-23  713.719971  717.950012  685.909973  705.210022  34734200   \n",
      "2022-06-24  712.409973  738.200012  708.260010  737.119995  31866500   \n",
      "\n",
      "            Dividends  Stock Splits  \n",
      "Date                                 \n",
      "2022-06-17          0             0  \n",
      "2022-06-21          0             0  \n",
      "2022-06-22          0             0  \n",
      "2022-06-23          0             0  \n",
      "2022-06-24          0             0  \n"
     ]
    },
    {
     "data": {
      "text/plain": "<Figure size 1035x575 with 2 Axes>",
      "image/png": "[encoded data removed]"
     },
     "metadata": {},
     "output_type": "display_data"
    }
   ],
   "source": [
    "print(history.tail())\n",
    "mpf.plot(history, type='candle', mav=(7),figratio=(18,10))"
   ],
   "metadata": {
    "collapsed": false,
    "pycharm": {
     "name": "#%%\n"
    }
   }
  },
  {
   "cell_type": "code",
   "execution_count": null,
   "outputs": [
    {
     "name": "stdout",
     "output_type": "stream",
     "text": [
      "                                                                                  \r\n",
      "     _ __ ___   ___ _ __ ___ _   _ _ __ _   _ \r\n",
      "    | '_ ` _ \\ / _ \\ '__/ __| | | | '__| | | |\r\n",
      "    | | | | | |  __/ | | (__| |_| | |  | |_| |\r\n",
      "    |_| |_| |_|\\___|_|  \\___|\\__,_|_|   \\__, |\r\n",
      "                                         __/ |\r\n",
      "                                        |___/ \r\n",
      "        \r\n",
      "Filepond app init: Creating temporary file upload directory </Users/borispervusin/opt/anaconda3/lib/python3.9/site-packages/mercury/uploads-temp>\r\n",
      "Filepond app init: Creating file store directory </Users/borispervusin/opt/anaconda3/lib/python3.9/site-packages/mercury/uploads>...\r\n",
      "\u001B[36;1mOperations to perform:\u001B[0m\r\n",
      "\u001B[1m  Apply all migrations: \u001B[0madmin, auth, contenttypes, django_drf_filepond, notebooks, sessions, tasks\r\n",
      "\u001B[36;1mRunning migrations:\u001B[0m\r\n",
      "  Applying contenttypes.0001_initial...\u001B[32;1m OK\u001B[0m\r\n",
      "  Applying auth.0001_initial...\u001B[32;1m OK\u001B[0m\r\n",
      "  Applying admin.0001_initial...\u001B[32;1m OK\u001B[0m\r\n",
      "  Applying admin.0002_logentry_remove_auto_add...\u001B[32;1m OK\u001B[0m\r\n",
      "  Applying admin.0003_logentry_add_action_flag_choices...\u001B[32;1m OK\u001B[0m\r\n",
      "  Applying contenttypes.0002_remove_content_type_name...\u001B[32;1m OK\u001B[0m\r\n",
      "  Applying auth.0002_alter_permission_name_max_length...\u001B[32;1m OK\u001B[0m\r\n",
      "  Applying auth.0003_alter_user_email_max_length...\u001B[32;1m OK\u001B[0m\r\n",
      "  Applying auth.0004_alter_user_username_opts...\u001B[32;1m OK\u001B[0m\r\n",
      "  Applying auth.0005_alter_user_last_login_null...\u001B[32;1m OK\u001B[0m\r\n",
      "  Applying auth.0006_require_contenttypes_0002...\u001B[32;1m OK\u001B[0m\r\n",
      "  Applying auth.0007_alter_validators_add_error_messages...\u001B[32;1m OK\u001B[0m\r\n",
      "  Applying auth.0008_alter_user_username_max_length...\u001B[32;1m OK\u001B[0m\r\n",
      "  Applying auth.0009_alter_user_last_name_max_length...\u001B[32;1m OK\u001B[0m\r\n",
      "  Applying auth.0010_alter_group_name_max_length...\u001B[32;1m OK\u001B[0m\r\n",
      "  Applying auth.0011_update_proxy_permissions...\u001B[32;1m OK\u001B[0m\r\n",
      "  Applying auth.0012_alter_user_first_name_max_length...\u001B[32;1m OK\u001B[0m\r\n",
      "  Applying django_drf_filepond.0001_initial...\u001B[32;1m OK\u001B[0m\r\n",
      "  Applying django_drf_filepond.0002_add_upload_dir...\u001B[32;1m OK\u001B[0m\r\n",
      "  Applying django_drf_filepond.0003_add_storedupload...\u001B[32;1m OK\u001B[0m\r\n",
      "  Applying django_drf_filepond.0004_tempupload_mods...\u001B[32;1m OK\u001B[0m\r\n",
      "  Applying django_drf_filepond.0005_add_uploaded_by...\u001B[32;1m OK\u001B[0m\r\n",
      "  Applying django_drf_filepond.0006_permupload_mods...\u001B[32;1m OK\u001B[0m\r\n",
      "  Applying django_drf_filepond.0007_altered_stored_upload_file...\u001B[32;1m OK\u001B[0m\r\n",
      "  Applying django_drf_filepond.0008_temporaryuploadchunked...\u001B[32;1m OK\u001B[0m\r\n",
      "  Applying django_drf_filepond.0009_temporaryuploadchunked_offset_utime...\u001B[32;1m OK\u001B[0m\r\n",
      "  Applying django_drf_filepond.0010_temp_chunked_biginteger...\u001B[32;1m OK\u001B[0m\r\n",
      "  Applying notebooks.0001_initial...\u001B[32;1m OK\u001B[0m\r\n",
      "  Applying sessions.0001_initial...\u001B[32;1m OK\u001B[0m\r\n",
      "  Applying tasks.0001_initial...\u001B[32;1m OK\u001B[0m\r\n",
      "\r\n",
      "199 static files copied to '/Users/borispervusin/opt/anaconda3/lib/python3.9/site-packages/mercury/static'.\r\n",
      "\u001B[1mInitialize dashboard.ipynb\u001B[0m\r\n",
      "\u001B[32;1mSuccessfully added a notebook (id:1)\u001B[0m\r\n",
      "Performing system checks...\r\n",
      "\r\n",
      "System check identified no issues (0 silenced).\r\n",
      "June 27, 2022 - 11:51:34\r\n",
      "Django version 3.2.5, using settings 'server.settings'\r\n",
      "Starting development server at http://127.0.0.1:8000/\r\n",
      "Quit the server with CONTROL-C.\r\n",
      "\u001B[1;36mcelery beat v5.1.2 (sun-harmonics) is starting.\u001B[0m\r\n",
      "\u001B[1;34m__    \u001B[1;35m-\u001B[0m\u001B[1;34m    ... __   \u001B[0m\u001B[1;35m-\u001B[0m\u001B[1;34m        _\r\n",
      "\u001B[0m\u001B[0mLocalTime -> 2022-06-27 11:51:37\r\n",
      "Configuration ->\r\n",
      "    . broker -> sqla+sqlite:///celery.sqlite\r\n",
      "    . loader -> celery.loaders.app.AppLoader\r\n",
      "    . scheduler -> celery.beat.PersistentScheduler\r\n",
      "    . db -> celerybeat-schedule\r\n",
      "    . logfile -> [stderr]@%ERROR\r\n",
      "    . maxinterval -> 1.00 minute (60s)\u001B[0m\u001B[0m\r\n",
      "\u001B[1;36m \r\n",
      " -------------- celery@Boriss-MacBook-Pro.local v5.1.2 (sun-harmonics)\r\n",
      "--- ***** ----- \r\n",
      "-- ******* ---- macOS-10.16-x86_64-i386-64bit 2022-06-27 11:51:37\r\n",
      "- *** --- * --- \r\n",
      "- ** ---------- [config]\r\n",
      "- ** ---------- .> app:         server:0x7fa225592790\r\n",
      "- ** ---------- .> transport:   sqla+sqlite:///celery.sqlite\r\n",
      "- ** ---------- .> results:     sqlite:///celery.sqlite\r\n",
      "- *** --- * --- .> concurrency: 1 (gevent)\r\n",
      "-- ******* ---- .> task events: ON\r\n",
      "--- ***** ----- \r\n",
      " -------------- [queues]\r\n",
      "                .> celery           exchange=celery(direct) key=celery\r\n",
      "                \r\n",
      "\u001B[0m\u001B[0m\u001B[0m\r\n"
     ]
    }
   ],
   "source": [
    "!mercury run"
   ],
   "metadata": {
    "collapsed": false,
    "pycharm": {
     "name": "#%%\n"
    }
   }
  },
  {
   "cell_type": "code",
   "execution_count": null,
   "outputs": [],
   "source": [
    "!git add dashboard.ipynb\n",
    "!git add requirements.txt\n",
    "!git add Procfile\n",
    "!git commit -am \"create dashboard in Python\"\n",
    "!git push"
   ],
   "metadata": {
    "collapsed": false,
    "pycharm": {
     "name": "#%%\n"
    }
   }
  },
  {
   "cell_type": "code",
   "execution_count": null,
   "outputs": [],
   "source": [],
   "metadata": {
    "collapsed": false,
    "pycharm": {
     "name": "#%%\n"
    }
   }
  }
 ],
 "metadata": {
  "kernelspec": {
   "display_name": "Python 3",
   "language": "python",
   "name": "python3"
  },
  "language_info": {
   "codemirror_mode": {
    "name": "ipython",
    "version": 2
   },
   "file_extension": ".py",
   "mimetype": "text/x-python",
   "name": "python",
   "nbconvert_exporter": "python",
   "pygments_lexer": "ipython2",
   "version": "2.7.6"
  }
 },
 "nbformat": 4,
 "nbformat_minor": 0
}